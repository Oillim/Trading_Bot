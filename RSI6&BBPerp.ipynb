{
 "cells": [
  {
   "cell_type": "code",
   "execution_count": 2,
   "metadata": {},
   "outputs": [],
   "source": [
    "import numpy as np\n",
    "import pandas as pd\n",
    "import matplotlib.pyplot as plt\n",
    "import requests, datetime, talib, json, pprint, websocket\n",
    "from binance.client import Client\n",
    "from tradingview_ta import TA_Handler, Interval"
   ]
  },
  {
   "cell_type": "code",
   "execution_count": null,
   "metadata": {},
   "outputs": [],
   "source": [
    "api_key = 'wZGVBCNG0qpwEA0wmg6Di2CkA28zkpqFn0zf0jk8lBXJ7eM9R1qA6e8Ike1dP9ka'\n",
    "api_secret = '56sXANiThjsRM3WesAXr2kyoo45omvUqeAjdl3f9dKQdbyVlzwrThXXoKRDmPG2k'\n",
    "client = Client(api_key, api_secret)"
   ]
  },
  {
   "cell_type": "code",
   "execution_count": null,
   "metadata": {},
   "outputs": [],
   "source": [
    "klines = client.get_historical_klines('BTCUSDT', client.KLINE_INTERVAL_1MINUTE, \"10 minutes ago UTC\")\n",
    "df = pd.DataFrame(klines)\n",
    "df = df.iloc[:,:5]\n",
    "df.columns = ['date','open','high','low','close']\n",
    "df['date'] = pd.to_datetime(df['date'], unit = 'ms')\n",
    "df['RSI6'] = 'Nan'\n",
    "df.iloc[:,1:5] = df.iloc[:,1:5].astype(float)\n",
    "df"
   ]
  },
  {
   "cell_type": "code",
   "execution_count": null,
   "metadata": {},
   "outputs": [],
   "source": [
    "link = 'wss://stream.binance.com:9443/ws/btcusdt@kline_1m'\n",
    "closes =[]"
   ]
  },
  {
   "cell_type": "code",
   "execution_count": null,
   "metadata": {},
   "outputs": [],
   "source": [
    "def clean_data(data):\n",
    "    df = pd.DataFrame(data)\n",
    "    df = df.transpose()\n",
    "    df.columns = ['date','open','high','low','close','RSI6']\n",
    "    df['date'] = pd.to_datetime(df['date'], unit = 'ms')\n",
    "    df.iloc[:,1:5] = df.iloc[:,1:5].astype(float)\n",
    "    return df"
   ]
  },
  {
   "cell_type": "code",
   "execution_count": null,
   "metadata": {},
   "outputs": [],
   "source": [
    "def on_close(ws):\n",
    "    print('closed connection')\n",
    "def on_open(ws):\n",
    "    print('opened connection')\n",
    "\n",
    "def on_message(ws, ms):\n",
    "\n",
    "    global closes\n",
    "\n",
    "    js_message = json.loads(ms)\n",
    "    candle = js_message['k']\n",
    "    is_candle_close = candle['x']\n",
    "    close = candle['c']\n",
    "\n",
    "    if is_candle_close:\n",
    "        row = []\n",
    "        row.append(candle['t'])\n",
    "        row.append(candle['o'])\n",
    "        row.append(candle['h'])\n",
    "        row.append(candle['l'])\n",
    "        row.append(candle['c'])\n",
    "        row.append('Nan')\n",
    "        print(row)\n",
    "        df.loc[len(df)] = row\n",
    "        df.iloc[-1:] = clean_data(df.loc[len(df)-1])\n",
    "\n",
    "        np_closes = np.array(df['close'])\n",
    "\n",
    "        df['RSI6'] = talib.RSI(np_closes.astype(float), 6)\n",
    "        print(df)\n",
    "   \n",
    "        \n",
    "\n",
    "    \n",
    "ws = websocket.WebSocketApp(link,on_open=on_open, on_close = on_close, on_message=on_message)\n",
    "ws.run_forever()"
   ]
  },
  {
   "cell_type": "code",
   "execution_count": null,
   "metadata": {},
   "outputs": [],
   "source": [
    "np_closes = np.array(df['close'])\n",
    "\n",
    "np_closes.astype(float)\n",
    "\n",
    "df['RSI6'] = talib.RSI(np_closes.astype(float),6)"
   ]
  },
  {
   "cell_type": "code",
   "execution_count": 10,
   "metadata": {},
   "outputs": [
    {
     "ename": "KeyboardInterrupt",
     "evalue": "",
     "output_type": "error",
     "traceback": [
      "\u001b[1;31m---------------------------------------------------------------------------\u001b[0m",
      "\u001b[1;31mKeyboardInterrupt\u001b[0m                         Traceback (most recent call last)",
      "File \u001b[1;32mc:\\Users\\Admin\\AppData\\Local\\Programs\\Python\\Python310\\lib\\site-packages\\IPython\\core\\async_helpers.py:129\u001b[0m, in \u001b[0;36m_pseudo_sync_runner\u001b[1;34m(coro)\u001b[0m\n\u001b[0;32m    121\u001b[0m \u001b[39m\"\"\"\u001b[39;00m\n\u001b[0;32m    122\u001b[0m \u001b[39mA runner that does not really allow async execution, and just advance the coroutine.\u001b[39;00m\n\u001b[0;32m    123\u001b[0m \n\u001b[1;32m   (...)\u001b[0m\n\u001b[0;32m    126\u001b[0m \u001b[39mCredit to Nathaniel Smith\u001b[39;00m\n\u001b[0;32m    127\u001b[0m \u001b[39m\"\"\"\u001b[39;00m\n\u001b[0;32m    128\u001b[0m \u001b[39mtry\u001b[39;00m:\n\u001b[1;32m--> 129\u001b[0m     coro\u001b[39m.\u001b[39;49msend(\u001b[39mNone\u001b[39;49;00m)\n\u001b[0;32m    130\u001b[0m \u001b[39mexcept\u001b[39;00m \u001b[39mStopIteration\u001b[39;00m \u001b[39mas\u001b[39;00m exc:\n\u001b[0;32m    131\u001b[0m     \u001b[39mreturn\u001b[39;00m exc\u001b[39m.\u001b[39mvalue\n",
      "File \u001b[1;32mc:\\Users\\Admin\\AppData\\Local\\Programs\\Python\\Python310\\lib\\site-packages\\IPython\\core\\interactiveshell.py:2980\u001b[0m, in \u001b[0;36mInteractiveShell.run_cell_async\u001b[1;34m(self, raw_cell, store_history, silent, shell_futures, transformed_cell, preprocessing_exc_tuple)\u001b[0m\n\u001b[0;32m   2977\u001b[0m _run_async \u001b[39m=\u001b[39m \u001b[39mFalse\u001b[39;00m\n\u001b[0;32m   2979\u001b[0m \u001b[39mwith\u001b[39;00m \u001b[39mself\u001b[39m\u001b[39m.\u001b[39mbuiltin_trap:\n\u001b[1;32m-> 2980\u001b[0m     cell_name \u001b[39m=\u001b[39m compiler\u001b[39m.\u001b[39;49mcache(cell, \u001b[39mself\u001b[39;49m\u001b[39m.\u001b[39;49mexecution_count, raw_code\u001b[39m=\u001b[39;49mraw_cell)\n\u001b[0;32m   2982\u001b[0m     \u001b[39mwith\u001b[39;00m \u001b[39mself\u001b[39m\u001b[39m.\u001b[39mdisplay_trap:\n\u001b[0;32m   2983\u001b[0m         \u001b[39m# Compile to bytecode\u001b[39;00m\n\u001b[0;32m   2984\u001b[0m         \u001b[39mtry\u001b[39;00m:\n",
      "File \u001b[1;32mc:\\Users\\Admin\\AppData\\Local\\Programs\\Python\\Python310\\lib\\site-packages\\IPython\\core\\compilerop.py:159\u001b[0m, in \u001b[0;36mCachingCompiler.cache\u001b[1;34m(self, transformed_code, number, raw_code)\u001b[0m\n\u001b[0;32m    156\u001b[0m \u001b[39mif\u001b[39;00m raw_code \u001b[39mis\u001b[39;00m \u001b[39mNone\u001b[39;00m:\n\u001b[0;32m    157\u001b[0m     raw_code \u001b[39m=\u001b[39m transformed_code\n\u001b[1;32m--> 159\u001b[0m name \u001b[39m=\u001b[39m \u001b[39mself\u001b[39;49m\u001b[39m.\u001b[39;49mget_code_name(raw_code, transformed_code, number)\n\u001b[0;32m    161\u001b[0m \u001b[39m# Save the execution count\u001b[39;00m\n\u001b[0;32m    162\u001b[0m \u001b[39mself\u001b[39m\u001b[39m.\u001b[39m_filename_map[name] \u001b[39m=\u001b[39m number\n",
      "File \u001b[1;32mc:\\Users\\Admin\\AppData\\Local\\Programs\\Python\\Python310\\lib\\site-packages\\ipykernel\\compiler.py:66\u001b[0m, in \u001b[0;36mXCachingCompiler.get_code_name\u001b[1;34m(self, raw_code, code, number)\u001b[0m\n\u001b[0;32m     65\u001b[0m \u001b[39mdef\u001b[39;00m \u001b[39mget_code_name\u001b[39m(\u001b[39mself\u001b[39m, raw_code, code, number):\n\u001b[1;32m---> 66\u001b[0m     \u001b[39mreturn\u001b[39;00m get_file_name(raw_code)\n",
      "File \u001b[1;32mc:\\Users\\Admin\\AppData\\Local\\Programs\\Python\\Python310\\lib\\site-packages\\ipykernel\\compiler.py:54\u001b[0m, in \u001b[0;36mget_file_name\u001b[1;34m(code)\u001b[0m\n\u001b[0;32m     52\u001b[0m cell_name \u001b[39m=\u001b[39m os\u001b[39m.\u001b[39menviron\u001b[39m.\u001b[39mget(\u001b[39m\"\u001b[39m\u001b[39mIPYKERNEL_CELL_NAME\u001b[39m\u001b[39m\"\u001b[39m)\n\u001b[0;32m     53\u001b[0m \u001b[39mif\u001b[39;00m cell_name \u001b[39mis\u001b[39;00m \u001b[39mNone\u001b[39;00m:\n\u001b[1;32m---> 54\u001b[0m     name \u001b[39m=\u001b[39m murmur2_x86(code, get_tmp_hash_seed())\n\u001b[0;32m     55\u001b[0m     cell_name \u001b[39m=\u001b[39m get_tmp_directory() \u001b[39m+\u001b[39m \u001b[39m'\u001b[39m\u001b[39m/\u001b[39m\u001b[39m'\u001b[39m \u001b[39m+\u001b[39m \u001b[39mstr\u001b[39m(name) \u001b[39m+\u001b[39m \u001b[39m'\u001b[39m\u001b[39m.py\u001b[39m\u001b[39m'\u001b[39m\n\u001b[0;32m     56\u001b[0m \u001b[39mreturn\u001b[39;00m cell_name\n",
      "File \u001b[1;32mc:\\Users\\Admin\\AppData\\Local\\Programs\\Python\\Python310\\lib\\site-packages\\ipykernel\\compiler.py:8\u001b[0m, in \u001b[0;36mmurmur2_x86\u001b[1;34m(data, seed)\u001b[0m\n\u001b[0;32m      6\u001b[0m \u001b[39mdef\u001b[39;00m \u001b[39mmurmur2_x86\u001b[39m(data, seed):\n\u001b[0;32m      7\u001b[0m     m \u001b[39m=\u001b[39m \u001b[39m0x5bd1e995\u001b[39m\n\u001b[1;32m----> 8\u001b[0m     data \u001b[39m=\u001b[39m [\u001b[39mchr\u001b[39m(d) \u001b[39mfor\u001b[39;00m d \u001b[39min\u001b[39;00m \u001b[39mstr\u001b[39m\u001b[39m.\u001b[39mencode(data, \u001b[39m\"\u001b[39m\u001b[39mutf8\u001b[39m\u001b[39m\"\u001b[39m)]\n\u001b[0;32m      9\u001b[0m     length \u001b[39m=\u001b[39m \u001b[39mlen\u001b[39m(data)\n\u001b[0;32m     10\u001b[0m     h \u001b[39m=\u001b[39m seed \u001b[39m^\u001b[39m length\n",
      "File \u001b[1;32mc:\\Users\\Admin\\AppData\\Local\\Programs\\Python\\Python310\\lib\\site-packages\\ipykernel\\compiler.py:8\u001b[0m, in \u001b[0;36m<listcomp>\u001b[1;34m(.0)\u001b[0m\n\u001b[0;32m      6\u001b[0m \u001b[39mdef\u001b[39;00m \u001b[39mmurmur2_x86\u001b[39m(data, seed):\n\u001b[0;32m      7\u001b[0m     m \u001b[39m=\u001b[39m \u001b[39m0x5bd1e995\u001b[39m\n\u001b[1;32m----> 8\u001b[0m     data \u001b[39m=\u001b[39m [\u001b[39mchr\u001b[39;49m(d) \u001b[39mfor\u001b[39;00m d \u001b[39min\u001b[39;00m \u001b[39mstr\u001b[39m\u001b[39m.\u001b[39mencode(data, \u001b[39m\"\u001b[39m\u001b[39mutf8\u001b[39m\u001b[39m\"\u001b[39m)]\n\u001b[0;32m      9\u001b[0m     length \u001b[39m=\u001b[39m \u001b[39mlen\u001b[39m(data)\n\u001b[0;32m     10\u001b[0m     h \u001b[39m=\u001b[39m seed \u001b[39m^\u001b[39m length\n",
      "\u001b[1;31mKeyboardInterrupt\u001b[0m: "
     ]
    }
   ],
   "source": [
    "output = TA_Handler(screener = 'Crypto', exchange = 'Binance', symbol= 'BTCUSDTPERP', interval= Interval.INTERVAL_5_MINUTES)\n",
    "output.get_analysis().indicators['BB.lower']"
   ]
  },
  {
   "cell_type": "code",
   "execution_count": 13,
   "metadata": {},
   "outputs": [
    {
     "ename": "AttributeError",
     "evalue": "'numpy.ndarray' object has no attribute 'diff'",
     "output_type": "error",
     "traceback": [
      "\u001b[1;31m---------------------------------------------------------------------------\u001b[0m",
      "\u001b[1;31mAttributeError\u001b[0m                            Traceback (most recent call last)",
      "\u001b[1;32me:\\Python\\cryptobot\\RSI6&BBPerp.ipynb Cell 9\u001b[0m in \u001b[0;36m<module>\u001b[1;34m\u001b[0m\n\u001b[0;32m      <a href='vscode-notebook-cell:/e%3A/Python/cryptobot/RSI6%26BBPerp.ipynb#X11sZmlsZQ%3D%3D?line=2'>3</a>\u001b[0m closes \u001b[39m=\u001b[39m [\u001b[39m23779.47\u001b[39m,\u001b[39m23762.54\u001b[39m,\u001b[39m23755.12\u001b[39m,\u001b[39m23751.95\u001b[39m,\u001b[39m23747.91\u001b[39m,\u001b[39m23769.31\u001b[39m,\u001b[39m23751.42\u001b[39m,\u001b[39m23746.65\u001b[39m,\u001b[39m23729.27\u001b[39m,\u001b[39m23748.46\u001b[39m]\n\u001b[0;32m      <a href='vscode-notebook-cell:/e%3A/Python/cryptobot/RSI6%26BBPerp.ipynb#X11sZmlsZQ%3D%3D?line=3'>4</a>\u001b[0m np_closes \u001b[39m=\u001b[39m np\u001b[39m.\u001b[39marray(closes)\n\u001b[1;32m----> <a href='vscode-notebook-cell:/e%3A/Python/cryptobot/RSI6%26BBPerp.ipynb#X11sZmlsZQ%3D%3D?line=5'>6</a>\u001b[0m close_delta \u001b[39m=\u001b[39m np_closes\u001b[39m.\u001b[39;49mdiff()\n\u001b[0;32m      <a href='vscode-notebook-cell:/e%3A/Python/cryptobot/RSI6%26BBPerp.ipynb#X11sZmlsZQ%3D%3D?line=6'>7</a>\u001b[0m up \u001b[39m=\u001b[39m close_delta\u001b[39m.\u001b[39mclip(lower\u001b[39m=\u001b[39m\u001b[39m0\u001b[39m)\n\u001b[0;32m      <a href='vscode-notebook-cell:/e%3A/Python/cryptobot/RSI6%26BBPerp.ipynb#X11sZmlsZQ%3D%3D?line=7'>8</a>\u001b[0m down \u001b[39m=\u001b[39m \u001b[39m-\u001b[39m\u001b[39m1\u001b[39m \u001b[39m*\u001b[39m close_delta\u001b[39m.\u001b[39mclip(upper\u001b[39m=\u001b[39m\u001b[39m0\u001b[39m)\n",
      "\u001b[1;31mAttributeError\u001b[0m: 'numpy.ndarray' object has no attribute 'diff'"
     ]
    }
   ],
   "source": [
    "import talib\n",
    "\n",
    "closes = [23779.47,23762.54,23755.12,23751.95,23747.91,23769.31,23751.42,23746.65,23729.27,23748.46]\n",
    "np_closes = np.array(closes)\n",
    "\n",
    "close_delta = np_closes.diff()\n",
    "up = close_delta.clip(lower=0)\n",
    "down = -1 * close_delta.clip(upper=0)\n",
    "\n",
    "AvgU = up.rolling(window = 6).mean()\n",
    "AvgD = down.rolling(window = 6).mean()\n",
    "\n",
    "rs = AvgU / AvgD\n",
    "rsi_simple = 100 - (100/(1 + rs))\n",
    "rsi_simple_np = np.array(rsi_simple)\n",
    "rsi_simple_np"
   ]
  }
 ],
 "metadata": {
  "kernelspec": {
   "display_name": "Python 3.10.6 64-bit",
   "language": "python",
   "name": "python3"
  },
  "language_info": {
   "codemirror_mode": {
    "name": "ipython",
    "version": 3
   },
   "file_extension": ".py",
   "mimetype": "text/x-python",
   "name": "python",
   "nbconvert_exporter": "python",
   "pygments_lexer": "ipython3",
   "version": "3.10.6"
  },
  "orig_nbformat": 4,
  "vscode": {
   "interpreter": {
    "hash": "a42ccb73e7d9bfdf27e036f1d2b8b681e55fc0743cc5586bc2474d4a60f4b886"
   }
  }
 },
 "nbformat": 4,
 "nbformat_minor": 2
}
